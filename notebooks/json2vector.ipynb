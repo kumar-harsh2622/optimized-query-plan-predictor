{
 "cells": [
  {
   "cell_type": "code",
   "execution_count": null,
   "metadata": {},
   "outputs": [],
   "source": [
    "import json\r\n",
    "from jsonvectorizer import JsonVectorizer, vectorizers\r\n",
    "from jsonvectorizer.utils import fopen\r\n",
    "\r\n",
    "# Load data\r\n",
    "docs = []\r\n",
    "with utils.fopen('samples.json.gz') as f:\r\n",
    "    for line in f:\r\n",
    "        doc = json.loads(line)\r\n",
    "        docs.append(doc)\r\n",
    "\r\n",
    "# Learn the schema of sample documents\r\n",
    "vectorizer = JsonVectorizer()\r\n",
    "vectorizer.extend(docs)"
   ]
  }
 ],
 "metadata": {
  "interpreter": {
   "hash": "a5e9669fc23686289bab8faee75cf5c458b29840ff2a1c38e2ed113a10858e16"
  },
  "kernelspec": {
   "display_name": "Python 3.7.4 64-bit ('base': conda)",
   "name": "python3"
  },
  "language_info": {
   "name": "python",
   "version": ""
  },
  "orig_nbformat": 4
 },
 "nbformat": 4,
 "nbformat_minor": 2
}