{
 "cells": [
  {
   "cell_type": "markdown",
   "source": [
    "# Operator Based Clustering"
   ],
   "metadata": {}
  },
  {
   "cell_type": "code",
   "execution_count": 50,
   "source": [
    "from lxml import etree\r\n",
    "\r\n",
    "def depth(node):\r\n",
    "    d = 0\r\n",
    "    while node is not None:\r\n",
    "        d += 1\r\n",
    "        node = node.getparent()\r\n",
    "    return d\r\n",
    "\r\n",
    "def helper(fname):\r\n",
    "    xml=etree.parse(fname)\r\n",
    "    root=xml.getroot()\r\n",
    "    ast=[]\r\n",
    "    ast.append({'index':0,'type':'SELECT','depth':0,'parent':-1})\r\n",
    "    curr=0\r\n",
    "    for child in root.iter(\"{http://schemas.microsoft.com/sqlserver/2004/07/showplan}RelOp\"):\r\n",
    "        # print(depth(child),child.attrib['PhysicalOp'])\r\n",
    "        parent=-1\r\n",
    "        if(depth(child)>ast[curr]['depth']):\r\n",
    "            parent=curr\r\n",
    "        else:\r\n",
    "            i=curr\r\n",
    "            while(ast[i]['depth']>=depth(child)):\r\n",
    "                i-=1\r\n",
    "            parent=i\r\n",
    "        curr+=1\r\n",
    "        data={\r\n",
    "            'index':curr,\r\n",
    "            'type':child.attrib['PhysicalOp'],\r\n",
    "            'depth':depth(child),\r\n",
    "            'parent':parent\r\n",
    "        }\r\n",
    "        ast.append(data)\r\n",
    "    return ast\r\n",
    "\r\n",
    "def find_child(arr,index):\r\n",
    "    temp=[]\r\n",
    "    for i in range(len(arr)):\r\n",
    "        if arr[i]['parent']==index:\r\n",
    "            temp.append(i)\r\n",
    "    return temp\r\n",
    "        \r\n",
    "        \r\n",
    "def func(arr,index):\r\n",
    "    lst=find_child(arr,index)\r\n",
    "    temp={'type':arr[index]['type'],'children':[]}\r\n",
    "    for i in lst:\r\n",
    "        val = func(arr, i)\r\n",
    "        if len(val['children'])==0:\r\n",
    "            temp['children'].append({'type':val['type']})\r\n",
    "        else:\r\n",
    "            temp['children'].append(val)\r\n",
    "    return temp"
   ],
   "outputs": [],
   "metadata": {}
  },
  {
   "cell_type": "code",
   "execution_count": 11,
   "source": [
    "q_list=[0, 2, 3, 5, 8, 13, 18, 19, 21, 22, 23, 26, 28, 29, 30, 32, 40, 41, 46, 47, 49]\r\n",
    "\r\n",
    "import json\r\n",
    "for i in range(len(q_list)):\r\n",
    "    fname=\"G:\\dbquery-optimizer\\Execution Plans\\query_1\\query_one_\"+str(q_list[i]+1)+\".xml\"\r\n",
    "    lookup=helper(fname)\r\n",
    "    tree=[func(lookup,0)]\r\n",
    "    with open(r\"G:\\dbquery-optimizer\\notebooks\\ast\\query_one_\"+str(q_list[i]+1)+\".json\",'w') as file:\r\n",
    "        json.dump(tree,file)\r\n"
   ],
   "outputs": [],
   "metadata": {}
  },
  {
   "cell_type": "code",
   "execution_count": 27,
   "source": [
    "import subprocess\r\n",
    "\r\n",
    "main=r\"G:\\dbquery-optimizer\\tree2vec\\main.py\"\r\n",
    "\r\n",
    "for i in range(len(q_list)):\r\n",
    "    inp=r\"G:\\dbquery-optimizer\\notebooks\\ast\\query_one_\"+str(q_list[i]+1)+\".json\"\r\n",
    "    out=r\"G:\\dbquery-optimizer\\notebooks\\vectors\\query_one_\"+str(q_list[i]+1)+\".json\"\r\n",
    "    try:\r\n",
    "        p=subprocess.Popen(['python',main,'-i',inp,'-o',out],stdout=subprocess.PIPE,stderr=subprocess.PIPE)\r\n",
    "        stderr=p.communicate()[0]\r\n",
    "        if(stderr):\r\n",
    "            print(stderr)\r\n",
    "    except:\r\n",
    "        print(\"Error\")\r\n"
   ],
   "outputs": [
    {
     "output_type": "stream",
     "name": "stdout",
     "text": [
      "103 1223\n"
     ]
    }
   ],
   "metadata": {}
  },
  {
   "cell_type": "code",
   "execution_count": 39,
   "source": [
    "features=[]\r\n",
    "exclude=[ 'chars_length_avg','chars_length_max',]\r\n",
    "for i in range(len(q_list)):\r\n",
    "    with open(r\"G:\\dbquery-optimizer\\notebooks\\vectors\\query_one_\"+str(q_list[i]+1)+\".json\",'r') as file:\r\n",
    "        doc=json.load(file)\r\n",
    "        for key in doc.keys():\r\n",
    "            if(key not in features and key not in exclude ):\r\n",
    "                features.append(key)\r\n",
    "\r\n",
    "# len(features)\r\n",
    "\r\n",
    "feature_val=[]\r\n",
    "for i in range(len(q_list)):\r\n",
    "    with open(r\"G:\\dbquery-optimizer\\notebooks\\vectors\\query_one_\"+str(q_list[i]+1)+\".json\",'r') as file:\r\n",
    "        doc=json.load(file)\r\n",
    "        row=[]\r\n",
    "        for key in features:\r\n",
    "            if(key in doc.keys()):\r\n",
    "                row.append(doc[key])\r\n",
    "            else:row.append(0)\r\n",
    "        feature_val.append(row)\r\n",
    "    \r\n",
    "len(feature_val[0])"
   ],
   "outputs": [
    {
     "output_type": "execute_result",
     "data": {
      "text/plain": [
       "101"
      ]
     },
     "metadata": {},
     "execution_count": 39
    }
   ],
   "metadata": {}
  },
  {
   "cell_type": "code",
   "execution_count": 40,
   "source": [
    "for i in range(len(q_list)):\r\n",
    "    fname=\"G:\\dbquery-optimizer\\Execution Plans\\query_1\\query_one_\"+str(q_list[i]+1)+\".xml\"\r\n",
    "    xml=etree.parse(fname)\r\n",
    "    root=xml.getroot()\r\n",
    "    nodes=0\r\n",
    "    merge_join=0\r\n",
    "    nested_loops=0\r\n",
    "    hash_match=0\r\n",
    "    sort=0\r\n",
    "    ci_scan=0\r\n",
    "    filter=0\r\n",
    "    aggr=0\r\n",
    "    for child in root.iter(\"{http://schemas.microsoft.com/sqlserver/2004/07/showplan}RelOp\"):\r\n",
    "        op=child.attrib['PhysicalOp']\r\n",
    "        if(op=='Stream Aggregate'):aggr+=1\r\n",
    "        elif (op=='Hash Match'):hash_match+=1\r\n",
    "        elif (op=='Filter'):filter+=1\r\n",
    "        elif (op=='Clustered Index Scan'):ci_scan+=1\r\n",
    "        elif(op=='Merge Join'):merge_join+=1\r\n",
    "        elif(op=='Nested Loops'):nested_loops+=1\r\n",
    "        elif(op=='Sort'):sort+=1\r\n",
    "        nodes+=1\r\n",
    "    row=[1,aggr,hash_match,merge_join,nested_loops,sort,filter,ci_scan]\r\n",
    "    row=[i/nodes for i in row]\r\n",
    "    row.append(nodes)\r\n",
    "    for j in row:\r\n",
    "        feature_val[i].append(j)\r\n",
    "\r\n"
   ],
   "outputs": [
    {
     "output_type": "execute_result",
     "data": {
      "text/plain": [
       "110"
      ]
     },
     "metadata": {},
     "execution_count": 40
    }
   ],
   "metadata": {}
  },
  {
   "cell_type": "code",
   "execution_count": 41,
   "source": [
    "import numpy as np\r\n",
    "feature_val=np.array(feature_val)\r\n",
    "feature_val.shape"
   ],
   "outputs": [
    {
     "output_type": "execute_result",
     "data": {
      "text/plain": [
       "(21, 110)"
      ]
     },
     "metadata": {},
     "execution_count": 41
    }
   ],
   "metadata": {}
  },
  {
   "cell_type": "code",
   "execution_count": 45,
   "source": [
    "from sklearn.cluster import KMeans\r\n",
    "from sklearn.metrics import silhouette_score\r\n",
    "import matplotlib.pyplot as plt\r\n",
    "clusters= [i for i in range(3,7)]\r\n",
    "Sum_of_squared_distances = []\r\n",
    "for num_clusters in clusters :\r\n",
    " kmeans = KMeans(n_clusters=num_clusters)\r\n",
    " kmeans.fit(feature_val)\r\n",
    " Sum_of_squared_distances.append(kmeans.inertia_)\r\n",
    "plt.plot(clusters,Sum_of_squared_distances,'bx-')\r\n",
    "plt.xlabel('Values of K') \r\n",
    "plt.ylabel('Sum of squared distances/Inertia') \r\n",
    "plt.title('Elbow Method For Optimal k')\r\n",
    "plt.show()\r\n",
    "silhouette_avg = []\r\n",
    "for num_clusters in clusters:\r\n",
    "    kmeans = KMeans(n_clusters=num_clusters)\r\n",
    "    kmeans.fit(feature_val)\r\n",
    "    cluster_labels = kmeans.labels_\r\n",
    "    silhouette_avg.append(silhouette_score(feature_val, cluster_labels))\r\n",
    "plt.plot(clusters,silhouette_avg,'bx-')\r\n",
    "plt.xlabel(\"Values of K\") \r\n",
    "plt.ylabel(\"Silhouette score\") \r\n",
    "plt.title(\"Silhouette analysis For Optimal k\")\r\n",
    "plt.show()"
   ],
   "outputs": [
    {
     "output_type": "display_data",
     "data": {
      "text/plain": [
       "<Figure size 432x288 with 1 Axes>"
      ],
      "image/png": "[encoded data removed]"
     },
     "metadata": {
      "needs_background": "light"
     }
    },
    {
     "output_type": "display_data",
     "data": {
      "text/plain": [
       "<Figure size 432x288 with 1 Axes>"
      ],
      "image/png": "[encoded data removed]"
     },
     "metadata": {
      "needs_background": "light"
     }
    }
   ],
   "metadata": {}
  },
  {
   "cell_type": "code",
   "execution_count": 49,
   "source": [
    "kmeans = KMeans(n_clusters=4,random_state=0).fit(feature_val)\r\n",
    "kmeans.cluster_centers_\r\n",
    "clusters=[{0:[],1:[],2:[],3:[]}]\r\n",
    "for i in range(len(kmeans.labels_)):\r\n",
    "    clusters[0][kmeans.labels_[i]].append(q_list[i]+1)\r\n",
    "\r\n",
    "clusters"
   ],
   "outputs": [
    {
     "output_type": "execute_result",
     "data": {
      "text/plain": [
       "[{0: [1, 6, 22, 23, 29, 31, 42, 48],\n",
       "  1: [3, 4, 14, 24, 27, 30, 33, 50],\n",
       "  2: [20, 41, 47],\n",
       "  3: [9, 19]}]"
      ]
     },
     "metadata": {},
     "execution_count": 49
    }
   ],
   "metadata": {}
  },
  {
   "cell_type": "markdown",
   "source": [
    "# Join-order Based Clustering"
   ],
   "metadata": {}
  },
  {
   "cell_type": "code",
   "execution_count": 57,
   "source": [
    "from lxml import etree\r\n",
    "\r\n",
    "def depth(node):\r\n",
    "    d = 0\r\n",
    "    while node is not None:\r\n",
    "        d += 1\r\n",
    "        node = node.getparent()\r\n",
    "    return d\r\n",
    "\r\n",
    "def util(fname):\r\n",
    "    xml=etree.parse(fname)\r\n",
    "    root=xml.getroot()\r\n",
    "    jot=[]\r\n",
    "    jot.append({'index':0,'type':'root','depth':0,'parent':-1})\r\n",
    "    curr=0\r\n",
    "    joins=['Nested Loops','Merge Join','Hash Match']\r\n",
    "    for child in root.iter(\"{http://schemas.microsoft.com/sqlserver/2004/07/showplan}RelOp\"):  \r\n",
    "        op=child.attrib['PhysicalOp']\r\n",
    "        if(op in joins):\r\n",
    "            # print(depth(child),child.attrib['PhysicalOp'])\r\n",
    "            parent=-1\r\n",
    "            if(depth(child)>jot[curr]['depth']):\r\n",
    "                parent=curr\r\n",
    "            else:\r\n",
    "                i=curr\r\n",
    "                while(jot[i]['depth']>=depth(child)):\r\n",
    "                    i-=1\r\n",
    "                parent=i\r\n",
    "            curr+=1\r\n",
    "            data={\r\n",
    "                'index':curr,\r\n",
    "                'type':child.attrib['PhysicalOp'],\r\n",
    "                'depth':depth(child),\r\n",
    "                'parent':parent\r\n",
    "            }\r\n",
    "            jot.append(data)\r\n",
    "    return jot\r\n",
    "\r\n",
    "def find_child(arr,index):\r\n",
    "    temp=[]\r\n",
    "    for i in range(len(arr)):\r\n",
    "        if arr[i]['parent']==index:\r\n",
    "            temp.append(i)\r\n",
    "    return temp\r\n",
    "        \r\n",
    "        \r\n",
    "def func(arr,index):\r\n",
    "    lst=find_child(arr,index)\r\n",
    "    temp={'type':arr[index]['type'],'children':[]}\r\n",
    "    for i in lst:\r\n",
    "        val = func(arr, i)\r\n",
    "        if len(val['children'])==0:\r\n",
    "            temp['children'].append({'type':val['type']})\r\n",
    "        else:\r\n",
    "            temp['children'].append(val)\r\n",
    "    return temp"
   ],
   "outputs": [],
   "metadata": {}
  },
  {
   "cell_type": "code",
   "execution_count": 70,
   "source": [
    "q_list=[0, 2, 3, 5, 8, 13, 18, 19, 21, 22, 23, 26, 28, 29, 30, 32, 40, 41, 46, 47, 49]\r\n",
    "\r\n",
    "import json\r\n",
    "for i in range(len(q_list)):\r\n",
    "    fname=\"G:\\dbquery-optimizer\\Execution Plans\\query_1\\query_one_\"+str(q_list[i]+1)+\".xml\"\r\n",
    "    lookup=util(fname)\r\n",
    "    tree=[func(lookup,1)]\r\n",
    "    with open(r\"G:\\dbquery-optimizer\\notebooks\\jot\\query_one_\"+str(q_list[i]+1)+\".json\",'w') as file:\r\n",
    "        json.dump(tree,file)"
   ],
   "outputs": [],
   "metadata": {}
  },
  {
   "cell_type": "code",
   "execution_count": 71,
   "source": [
    "import subprocess\r\n",
    "\r\n",
    "main=r\"G:\\dbquery-optimizer\\tree2vec\\main.py\"\r\n",
    "\r\n",
    "for i in range(len(q_list)):\r\n",
    "    inp=r\"G:\\dbquery-optimizer\\notebooks\\jot\\query_one_\"+str(q_list[i]+1)+\".json\"\r\n",
    "    out=r\"G:\\dbquery-optimizer\\notebooks\\jot-vectors\\query_one_\"+str(q_list[i]+1)+\".json\"\r\n",
    "    try:\r\n",
    "        p=subprocess.Popen(['python',main,'-i',inp,'-o',out],stdout=subprocess.PIPE,stderr=subprocess.PIPE)\r\n",
    "        stderr=p.communicate()[0]\r\n",
    "        if(stderr):\r\n",
    "            print(stderr)\r\n",
    "    except:\r\n",
    "        print(\"Error\")\r\n"
   ],
   "outputs": [],
   "metadata": {}
  },
  {
   "cell_type": "code",
   "execution_count": 87,
   "source": [
    "jot_features=[]\r\n",
    "# count=0\r\n",
    "exclude=[ 'chars_length_avg','chars_length_max',]\r\n",
    "for i in range(len(q_list)):\r\n",
    "    with open(r\"G:\\dbquery-optimizer\\notebooks\\jot-vectors\\query_one_\"+str(q_list[i]+1)+\".json\",'r') as file:\r\n",
    "        doc=json.load(file)\r\n",
    "        for key in doc.keys():\r\n",
    "            # count+=1\r\n",
    "            if(key not in jot_features and key not in exclude ):\r\n",
    "                jot_features.append(key)\r\n",
    "\r\n",
    "# print(len(jot_features))\r\n",
    "\r\n",
    "jot_vals=[]\r\n",
    "for i in range(len(q_list)):\r\n",
    "    with open(r\"G:\\dbquery-optimizer\\notebooks\\jot-vectors\\query_one_\"+str(q_list[i]+1)+\".json\",'r') as file:\r\n",
    "        doc=json.load(file)\r\n",
    "        row=[]\r\n",
    "        for key in jot_features:\r\n",
    "            if(key in doc.keys()):\r\n",
    "                row.append(doc[key])\r\n",
    "            else:row.append(0)\r\n",
    "        jot_vals.append(row)\r\n"
   ],
   "outputs": [],
   "metadata": {}
  },
  {
   "cell_type": "code",
   "execution_count": 88,
   "source": [
    "import numpy as np\r\n",
    "jot_vals=np.array(jot_vals)\r\n",
    "jot_vals"
   ],
   "outputs": [
    {
     "output_type": "execute_result",
     "data": {
      "text/plain": [
       "array([[ 6., 12., 18.,  6.,  6.,  0.,  0.,  0.,  0.,  0.,  0.,  0.,  0.],\n",
       "       [ 4.,  6.,  4.,  6.,  6.,  1.,  1.,  1.,  3.,  2.,  3.,  6.,  5.],\n",
       "       [ 4.,  6.,  4.,  6.,  6.,  1.,  1.,  1.,  3.,  2.,  3.,  6.,  5.],\n",
       "       [ 6., 12., 18.,  6.,  6.,  0.,  0.,  0.,  0.,  0.,  0.,  0.,  0.],\n",
       "       [ 6., 12., 13.,  5.,  5.,  0.,  0.,  0.,  0.,  0.,  0.,  0.,  0.],\n",
       "       [ 4.,  6.,  4.,  6.,  6.,  1.,  1.,  1.,  3.,  2.,  3.,  6.,  5.],\n",
       "       [ 6., 12., 13.,  5.,  5.,  0.,  0.,  0.,  0.,  0.,  0.,  0.,  0.],\n",
       "       [ 5.,  9., 10.,  6.,  6.,  1.,  0.,  0.,  0.,  3.,  0.,  0.,  8.],\n",
       "       [ 6., 12., 18.,  6.,  6.,  0.,  0.,  0.,  0.,  0.,  0.,  0.,  0.],\n",
       "       [ 6., 12., 18.,  6.,  6.,  0.,  0.,  0.,  0.,  0.,  0.,  0.,  0.],\n",
       "       [ 4.,  6.,  4.,  6.,  6.,  1.,  1.,  1.,  3.,  2.,  3.,  6.,  5.],\n",
       "       [ 4.,  6.,  4.,  6.,  6.,  1.,  1.,  1.,  3.,  2.,  3.,  6.,  5.],\n",
       "       [ 6., 12., 18.,  6.,  6.,  0.,  0.,  0.,  0.,  0.,  0.,  0.,  0.],\n",
       "       [ 4.,  6.,  4.,  6.,  6.,  1.,  1.,  1.,  3.,  2.,  3.,  6.,  5.],\n",
       "       [ 6., 12., 18.,  6.,  6.,  0.,  0.,  0.,  0.,  0.,  0.,  0.,  0.],\n",
       "       [ 4.,  6.,  4.,  6.,  6.,  1.,  1.,  1.,  3.,  2.,  3.,  6.,  5.],\n",
       "       [ 5.,  9., 10.,  6.,  6.,  1.,  0.,  0.,  0.,  3.,  0.,  0.,  8.],\n",
       "       [ 6., 12., 18.,  6.,  6.,  0.,  0.,  0.,  0.,  0.,  0.,  0.,  0.],\n",
       "       [ 5.,  9., 10.,  6.,  6.,  1.,  0.,  0.,  0.,  3.,  0.,  0.,  8.],\n",
       "       [ 6., 12., 18.,  6.,  6.,  0.,  0.,  0.,  0.,  0.,  0.,  0.,  0.],\n",
       "       [ 4.,  6.,  4.,  6.,  6.,  1.,  1.,  1.,  3.,  2.,  3.,  6.,  5.]])"
      ]
     },
     "metadata": {},
     "execution_count": 88
    }
   ],
   "metadata": {}
  },
  {
   "cell_type": "code",
   "execution_count": 92,
   "source": [
    "from sklearn.cluster import KMeans\r\n",
    "from sklearn.metrics import silhouette_score\r\n",
    "import matplotlib.pyplot as plt\r\n",
    "clusters= [i for i in range(2,5)]\r\n",
    "Sum_of_squared_distances = []\r\n",
    "for num_clusters in clusters :\r\n",
    " kmeans = KMeans(n_clusters=num_clusters)\r\n",
    " kmeans.fit(jot_vals)\r\n",
    " Sum_of_squared_distances.append(kmeans.inertia_)\r\n",
    "plt.plot(clusters,Sum_of_squared_distances,'bx-')\r\n",
    "plt.xlabel('Values of K') \r\n",
    "plt.ylabel('Sum of squared distances/Inertia') \r\n",
    "plt.title('Elbow Method For Optimal k')\r\n",
    "plt.show()\r\n",
    "silhouette_avg = []\r\n",
    "for num_clusters in clusters:\r\n",
    "    kmeans = KMeans(n_clusters=num_clusters)\r\n",
    "    kmeans.fit(jot_vals)\r\n",
    "    cluster_labels = kmeans.labels_\r\n",
    "    silhouette_avg.append(silhouette_score(jot_vals, cluster_labels))\r\n",
    "plt.plot(clusters,silhouette_avg,'bx-')\r\n",
    "plt.xlabel(\"Values of K\") \r\n",
    "plt.ylabel(\"Silhouette score\") \r\n",
    "plt.title(\"Silhouette analysis For Optimal k\")\r\n",
    "plt.show()"
   ],
   "outputs": [
    {
     "output_type": "display_data",
     "data": {
      "text/plain": [
       "<Figure size 432x288 with 1 Axes>"
      ],
      "image/png": "[encoded data removed]"
     },
     "metadata": {
      "needs_background": "light"
     }
    },
    {
     "output_type": "display_data",
     "data": {
      "text/plain": [
       "<Figure size 432x288 with 1 Axes>"
      ],
      "image/png": "[encoded data removed]"
     },
     "metadata": {
      "needs_background": "light"
     }
    }
   ],
   "metadata": {}
  },
  {
   "cell_type": "code",
   "execution_count": 94,
   "source": [
    "kmeans = KMeans(n_clusters=4,random_state=0).fit(jot_vals)\r\n",
    "kmeans.cluster_centers_\r\n",
    "clusters=[{0:[],1:[],2:[],3:[]}]\r\n",
    "for i in range(len(kmeans.labels_)):\r\n",
    "    clusters[0][kmeans.labels_[i]].append(q_list[i]+1)\r\n",
    "\r\n",
    "clusters"
   ],
   "outputs": [
    {
     "output_type": "execute_result",
     "data": {
      "text/plain": [
       "[{0: [1, 6, 22, 23, 29, 31, 42, 48],\n",
       "  1: [3, 4, 14, 24, 27, 30, 33, 50],\n",
       "  2: [20, 41, 47],\n",
       "  3: [9, 19]}]"
      ]
     },
     "metadata": {},
     "execution_count": 94
    }
   ],
   "metadata": {}
  }
 ],
 "metadata": {
  "orig_nbformat": 4,
  "language_info": {
   "name": "python"
  }
 },
 "nbformat": 4,
 "nbformat_minor": 2
}