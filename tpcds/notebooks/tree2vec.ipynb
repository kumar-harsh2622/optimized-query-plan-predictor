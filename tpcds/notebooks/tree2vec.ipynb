{
 "cells": [
  {
   "cell_type": "markdown",
   "source": [
    "# Operator Based Clustering"
   ],
   "metadata": {}
  },
  {
   "cell_type": "code",
   "execution_count": 2,
   "source": [
    "from lxml import etree\r\n",
    "\r\n",
    "def depth(node):\r\n",
    "    d = 0\r\n",
    "    while node is not None:\r\n",
    "        d += 1\r\n",
    "        node = node.getparent()\r\n",
    "    return d\r\n",
    "\r\n",
    "def helper(fname):\r\n",
    "    xml=etree.parse(fname)\r\n",
    "    root=xml.getroot()\r\n",
    "    ast=[]\r\n",
    "    ast.append({'index':0,'type':'SELECT','depth':0,'parent':-1})\r\n",
    "    curr=0\r\n",
    "    for child in root.iter(\"{http://schemas.microsoft.com/sqlserver/2004/07/showplan}RelOp\"):\r\n",
    "        # print(depth(child),child.attrib['PhysicalOp'])\r\n",
    "        parent=-1\r\n",
    "        if(depth(child)>ast[curr]['depth']):\r\n",
    "            parent=curr\r\n",
    "        else:\r\n",
    "            i=curr\r\n",
    "            while(ast[i]['depth']>=depth(child)):\r\n",
    "                i-=1\r\n",
    "            parent=i\r\n",
    "        curr+=1\r\n",
    "        data={\r\n",
    "            'index':curr,\r\n",
    "            'type':child.attrib['PhysicalOp'],\r\n",
    "            'depth':depth(child),\r\n",
    "            'parent':parent\r\n",
    "        }\r\n",
    "        ast.append(data)\r\n",
    "    return ast\r\n",
    "\r\n",
    "def find_child(arr,index):\r\n",
    "    temp=[]\r\n",
    "    for i in range(len(arr)):\r\n",
    "        if arr[i]['parent']==index:\r\n",
    "            temp.append(i)\r\n",
    "    return temp\r\n",
    "        \r\n",
    "        \r\n",
    "def func(arr,index):\r\n",
    "    lst=find_child(arr,index)\r\n",
    "    temp={'type':arr[index]['type'],'children':[]}\r\n",
    "    for i in lst:\r\n",
    "        val = func(arr, i)\r\n",
    "        if len(val['children'])==0:\r\n",
    "            temp['children'].append({'type':val['type']})\r\n",
    "        else:\r\n",
    "            temp['children'].append(val)\r\n",
    "    return temp"
   ],
   "outputs": [],
   "metadata": {}
  },
  {
   "cell_type": "code",
   "execution_count": 5,
   "source": [
    "q_list2=[1, 3, 4, 6, 10, 11, 12, 14, 16, 17, 22, 24, 25, 26, 27, 28, 30, 31, 33, 39, 45, 46]\r\n",
    "import json\r\n",
    "for i in range(len(q_list2)):\r\n",
    "    fname=r\"G:\\dbquery-optimizer\\tpcds\\Execution_Plans\\query_2\\query_two_\"+str(q_list2[i]+1)+\".xml\"\r\n",
    "    lookup=helper(fname)\r\n",
    "    tree=[func(lookup,0)]\r\n",
    "    with open(r\"G:\\dbquery-optimizer\\tpcds\\notebooks\\ast\\query_two_\"+str(q_list2[i]+1)+\".json\",'w') as file:\r\n",
    "        json.dump(tree,file)"
   ],
   "outputs": [],
   "metadata": {}
  },
  {
   "cell_type": "code",
   "execution_count": 6,
   "source": [
    "import subprocess\r\n",
    "\r\n",
    "main=r\"G:\\dbquery-optimizer\\tree2vec\\main.py\"\r\n",
    "\r\n",
    "for i in range(len(q_list2)):\r\n",
    "    inp=r\"G:\\dbquery-optimizer\\tpcds\\notebooks\\ast\\query_two_\"+str(q_list2[i]+1)+\".json\"\r\n",
    "    out=r\"G:\\dbquery-optimizer\\tpcds\\notebooks\\vectors\\query_two_\"+str(q_list2[i]+1)+\".json\"\r\n",
    "    try:\r\n",
    "        p=subprocess.Popen(['python',main,'-i',inp,'-o',out],stdout=subprocess.PIPE,stderr=subprocess.PIPE)\r\n",
    "        stderr=p.communicate()[0]\r\n",
    "        if(stderr):\r\n",
    "            print(stderr)\r\n",
    "    except:\r\n",
    "        print(\"Error\")\r\n"
   ],
   "outputs": [],
   "metadata": {}
  },
  {
   "cell_type": "code",
   "execution_count": 16,
   "source": [
    "features=[]\r\n",
    "exclude=[ 'chars_length_avg','chars_length_max',]\r\n",
    "for i in range(len(q_list2)):\r\n",
    "    with open(r\"G:\\dbquery-optimizer\\tpcds\\notebooks\\vectors\\query_two_\"+str(q_list2[i]+1)+\".json\",'r') as file:\r\n",
    "        doc=json.load(file)\r\n",
    "        for key in doc.keys():\r\n",
    "            if(key not in features and key not in exclude ):\r\n",
    "                features.append(key)\r\n",
    "\r\n",
    "# features\r\n",
    "\r\n",
    "feature_val=[]\r\n",
    "for i in range(len(q_list2)):\r\n",
    "    with open(r\"G:\\dbquery-optimizer\\tpcds\\notebooks\\vectors\\query_two_\"+str(q_list2[i]+1)+\".json\",'r') as file:\r\n",
    "        doc=json.load(file)\r\n",
    "        row=[]\r\n",
    "        for key in features:\r\n",
    "            if(key in doc.keys()):\r\n",
    "                row.append(doc[key])\r\n",
    "            else:row.append(0)\r\n",
    "        feature_val.append(row)\r\n",
    "    \r\n",
    "len(feature_val[0])"
   ],
   "outputs": [
    {
     "output_type": "execute_result",
     "data": {
      "text/plain": [
       "142"
      ]
     },
     "metadata": {},
     "execution_count": 16
    }
   ],
   "metadata": {}
  },
  {
   "cell_type": "code",
   "execution_count": 19,
   "source": [
    "for i in range(len(q_list2)):\r\n",
    "    fname=r\"G:\\dbquery-optimizer\\tpcds\\Execution_Plans\\query_2\\query_two_\"+str(q_list2[i]+1)+\".xml\"\r\n",
    "    xml=etree.parse(fname)\r\n",
    "    root=xml.getroot()\r\n",
    "    nodes=0\r\n",
    "    merge_join=0\r\n",
    "    nested_loops=0\r\n",
    "    hash_match=0\r\n",
    "    sort=0\r\n",
    "    ci_scan=0\r\n",
    "    ci_seek=0\r\n",
    "    parallelism=0\r\n",
    "    compute_scalar=0\r\n",
    "    filter=0\r\n",
    "    aggr=0\r\n",
    "    for child in root.iter(\"{http://schemas.microsoft.com/sqlserver/2004/07/showplan}RelOp\"):\r\n",
    "        op=child.attrib['PhysicalOp']\r\n",
    "        if(op=='Stream Aggregate'):aggr+=1\r\n",
    "        elif (op=='Hash Match'):hash_match+=1\r\n",
    "        elif (op=='Filter'):filter+=1\r\n",
    "        elif (op=='Clustered Index Scan'):ci_scan+=1\r\n",
    "        elif (op=='Clustered Index Seek'):ci_seek+=1\r\n",
    "        elif (op=='Parallelism'):parallelism+=1\r\n",
    "        elif (op=='Compute Scalar'):compute_scalar+=1\r\n",
    "        elif(op=='Merge Join'):merge_join+=1\r\n",
    "        elif(op=='Nested Loops'):nested_loops+=1\r\n",
    "        elif(op=='Sort'):sort+=1\r\n",
    "        nodes+=1\r\n",
    "    row=[1,aggr,parallelism,compute_scalar,hash_match,merge_join,nested_loops,sort,filter,ci_scan,ci_seek]\r\n",
    "    row=[i/nodes for i in row]\r\n",
    "    row.append(nodes)\r\n",
    "    for j in row:\r\n",
    "        feature_val[i].append(j)\r\n",
    "\r\n"
   ],
   "outputs": [],
   "metadata": {}
  },
  {
   "cell_type": "code",
   "execution_count": 21,
   "source": [
    "import numpy as np\r\n",
    "feature_val=np.array(feature_val)\r\n",
    "feature_val.shape"
   ],
   "outputs": [
    {
     "output_type": "execute_result",
     "data": {
      "text/plain": [
       "(22, 154)"
      ]
     },
     "metadata": {},
     "execution_count": 21
    }
   ],
   "metadata": {}
  },
  {
   "cell_type": "code",
   "execution_count": 22,
   "source": [
    "from sklearn.cluster import KMeans\r\n",
    "from sklearn.metrics import silhouette_score\r\n",
    "import matplotlib.pyplot as plt\r\n",
    "clusters= [i for i in range(2,7)]\r\n",
    "Sum_of_squared_distances = []\r\n",
    "for num_clusters in clusters :\r\n",
    " kmeans = KMeans(n_clusters=num_clusters)\r\n",
    " kmeans.fit(feature_val)\r\n",
    " Sum_of_squared_distances.append(kmeans.inertia_)\r\n",
    "plt.plot(clusters,Sum_of_squared_distances,'bx-')\r\n",
    "plt.xlabel('Values of K') \r\n",
    "plt.ylabel('Sum of squared distances/Inertia') \r\n",
    "plt.title('Elbow Method For Optimal k')\r\n",
    "plt.show()\r\n",
    "silhouette_avg = []\r\n",
    "for num_clusters in clusters:\r\n",
    "    kmeans = KMeans(n_clusters=num_clusters)\r\n",
    "    kmeans.fit(feature_val)\r\n",
    "    cluster_labels = kmeans.labels_\r\n",
    "    silhouette_avg.append(silhouette_score(feature_val, cluster_labels))\r\n",
    "plt.plot(clusters,silhouette_avg,'bx-')\r\n",
    "plt.xlabel(\"Values of K\") \r\n",
    "plt.ylabel(\"Silhouette score\") \r\n",
    "plt.title(\"Silhouette analysis For Optimal k\")\r\n",
    "plt.show()"
   ],
   "outputs": [
    {
     "output_type": "stream",
     "name": "stderr",
     "text": [
      "C:\\Users\\HP\\Anaconda3\\lib\\site-packages\\ipykernel_launcher.py:8: ConvergenceWarning: Number of distinct clusters (4) found smaller than n_clusters (5). Possibly due to duplicate points in X.\n",
      "  \n",
      "C:\\Users\\HP\\Anaconda3\\lib\\site-packages\\ipykernel_launcher.py:8: ConvergenceWarning: Number of distinct clusters (4) found smaller than n_clusters (6). Possibly due to duplicate points in X.\n",
      "  \n"
     ]
    },
    {
     "output_type": "display_data",
     "data": {
      "text/plain": [
       "<Figure size 432x288 with 1 Axes>"
      ],
      "image/png": "[encoded data removed]"
     },
     "metadata": {
      "needs_background": "light"
     }
    },
    {
     "output_type": "stream",
     "name": "stderr",
     "text": [
      "C:\\Users\\HP\\Anaconda3\\lib\\site-packages\\ipykernel_launcher.py:18: ConvergenceWarning: Number of distinct clusters (4) found smaller than n_clusters (5). Possibly due to duplicate points in X.\n",
      "C:\\Users\\HP\\Anaconda3\\lib\\site-packages\\ipykernel_launcher.py:18: ConvergenceWarning: Number of distinct clusters (4) found smaller than n_clusters (6). Possibly due to duplicate points in X.\n"
     ]
    },
    {
     "output_type": "display_data",
     "data": {
      "text/plain": [
       "<Figure size 432x288 with 1 Axes>"
      ],
      "image/png": "[encoded data removed]"
     },
     "metadata": {
      "needs_background": "light"
     }
    }
   ],
   "metadata": {}
  },
  {
   "cell_type": "code",
   "execution_count": 25,
   "source": [
    "kmeans = KMeans(n_clusters=3,random_state=0).fit(feature_val)\r\n",
    "# kmeans.cluster_centers_\r\n",
    "clusters=[{0:[],1:[],2:[]}]\r\n",
    "for i in range(len(kmeans.labels_)):\r\n",
    "    clusters[0][kmeans.labels_[i]].append(q_list2[i]+1)\r\n",
    "\r\n",
    "clusters\r\n",
    "# kmeans.cluster_centers_\r\n",
    "# kmeans.labels_"
   ],
   "outputs": [
    {
     "output_type": "execute_result",
     "data": {
      "text/plain": [
       "[{0: [2, 4, 5, 12, 13, 15, 26, 28, 29, 34, 47],\n",
       "  1: [7, 11, 17, 18, 23, 25, 40, 46],\n",
       "  2: [27, 31, 32]}]"
      ]
     },
     "metadata": {},
     "execution_count": 25
    }
   ],
   "metadata": {}
  },
  {
   "cell_type": "code",
   "execution_count": 27,
   "source": [
    "sums=[9999 for i in range(3)]\r\n",
    "plans=[-1 for i in range(3)]\r\n",
    "for i in range(len(q_list2)):\r\n",
    "    sum=0\r\n",
    "    for j in range(len(feature_val[i])):\r\n",
    "        sum+=(kmeans.cluster_centers_[kmeans.labels_[i]][j]-feature_val[i][j])**2\r\n",
    "    # print(sum,kmeans.labels_[i],end=\" \")\r\n",
    "    if(sums[kmeans.labels_[i]]>=sum):\r\n",
    "        sums[kmeans.labels_[i]]=sum\r\n",
    "        plans[kmeans.labels_[i]]=q_list2[i]+1\r\n",
    "    # print()\r\n",
    "plans"
   ],
   "outputs": [
    {
     "output_type": "execute_result",
     "data": {
      "text/plain": [
       "[47, 46, 32]"
      ]
     },
     "metadata": {},
     "execution_count": 27
    }
   ],
   "metadata": {}
  },
  {
   "cell_type": "markdown",
   "source": [
    "# Join-order Based Clustering"
   ],
   "metadata": {}
  },
  {
   "cell_type": "code",
   "execution_count": 28,
   "source": [
    "from lxml import etree\r\n",
    "\r\n",
    "def depth(node):\r\n",
    "    d = 0\r\n",
    "    while node is not None:\r\n",
    "        d += 1\r\n",
    "        node = node.getparent()\r\n",
    "    return d\r\n",
    "\r\n",
    "def util(fname):\r\n",
    "    xml=etree.parse(fname)\r\n",
    "    root=xml.getroot()\r\n",
    "    jot=[]\r\n",
    "    jot.append({'index':0,'type':'root','depth':0,'parent':-1})\r\n",
    "    curr=0\r\n",
    "    joins=['Nested Loops','Merge Join','Hash Match']\r\n",
    "    for child in root.iter(\"{http://schemas.microsoft.com/sqlserver/2004/07/showplan}RelOp\"):  \r\n",
    "        op=child.attrib['PhysicalOp']\r\n",
    "        if(op in joins):\r\n",
    "            # print(depth(child),child.attrib['PhysicalOp'])\r\n",
    "            parent=-1\r\n",
    "            if(depth(child)>jot[curr]['depth']):\r\n",
    "                parent=curr\r\n",
    "            else:\r\n",
    "                i=curr\r\n",
    "                while(jot[i]['depth']>=depth(child)):\r\n",
    "                    i-=1\r\n",
    "                parent=i\r\n",
    "            curr+=1\r\n",
    "            data={\r\n",
    "                'index':curr,\r\n",
    "                'type':child.attrib['PhysicalOp'],\r\n",
    "                'depth':depth(child),\r\n",
    "                'parent':parent\r\n",
    "            }\r\n",
    "            jot.append(data)\r\n",
    "    return jot\r\n",
    "\r\n",
    "def find_child(arr,index):\r\n",
    "    temp=[]\r\n",
    "    for i in range(len(arr)):\r\n",
    "        if arr[i]['parent']==index:\r\n",
    "            temp.append(i)\r\n",
    "    return temp\r\n",
    "        \r\n",
    "        \r\n",
    "def func(arr,index):\r\n",
    "    lst=find_child(arr,index)\r\n",
    "    temp={'type':arr[index]['type'],'children':[]}\r\n",
    "    for i in lst:\r\n",
    "        val = func(arr, i)\r\n",
    "        if len(val['children'])==0:\r\n",
    "            temp['children'].append({'type':val['type']})\r\n",
    "        else:\r\n",
    "            temp['children'].append(val)\r\n",
    "    return temp"
   ],
   "outputs": [],
   "metadata": {}
  },
  {
   "cell_type": "code",
   "execution_count": 31,
   "source": [
    "q_list2=[1, 3, 4, 6, 10, 11, 12, 14, 16, 17, 22, 24, 25, 26, 27, 28, 30, 31, 33, 39, 45, 46]\r\n",
    "\r\n",
    "import json\r\n",
    "for i in range(len(q_list2)):\r\n",
    "    fname=r\"G:\\dbquery-optimizer\\tpcds\\Execution_Plans\\query_2\\query_two_\"+str(q_list2[i]+1)+\".xml\"\r\n",
    "    lookup=util(fname)\r\n",
    "    tree=[func(lookup,1)]\r\n",
    "    with open(r\"G:\\dbquery-optimizer\\tpcds\\notebooks\\jot\\query_two_\"+str(q_list2[i]+1)+\".json\",'w') as file:\r\n",
    "        json.dump(tree,file)\r\n",
    "\r\n",
    "lookup"
   ],
   "outputs": [
    {
     "output_type": "execute_result",
     "data": {
      "text/plain": [
       "[{'index': 0, 'type': 'root', 'depth': 0, 'parent': -1},\n",
       " {'index': 1, 'type': 'Nested Loops', 'depth': 19, 'parent': 0},\n",
       " {'index': 2, 'type': 'Nested Loops', 'depth': 21, 'parent': 1}]"
      ]
     },
     "metadata": {},
     "execution_count": 31
    }
   ],
   "metadata": {}
  },
  {
   "cell_type": "code",
   "execution_count": 32,
   "source": [
    "import subprocess\r\n",
    "\r\n",
    "main=r\"G:\\dbquery-optimizer\\tree2vec\\main.py\"\r\n",
    "\r\n",
    "for i in range(len(q_list2)):\r\n",
    "    inp=r\"G:\\dbquery-optimizer\\tpcds\\notebooks\\jot\\query_two_\"+str(q_list2[i]+1)+\".json\"\r\n",
    "    out=r\"G:\\dbquery-optimizer\\tpcds\\notebooks\\jot-vectors\\query_two_\"+str(q_list2[i]+1)+\".json\"\r\n",
    "    try:\r\n",
    "        p=subprocess.Popen(['python',main,'-i',inp,'-o',out],stdout=subprocess.PIPE,stderr=subprocess.PIPE)\r\n",
    "        stderr=p.communicate()[0]\r\n",
    "        if(stderr):\r\n",
    "            print(stderr)\r\n",
    "    except:\r\n",
    "        print(\"Error\")\r\n"
   ],
   "outputs": [],
   "metadata": {}
  },
  {
   "cell_type": "code",
   "execution_count": 35,
   "source": [
    "jot_features=[]\r\n",
    "# count=0\r\n",
    "exclude=[ 'chars_length_avg','chars_length_max',]\r\n",
    "for i in range(len(q_list2)):\r\n",
    "    with open(r\"G:\\dbquery-optimizer\\tpcds\\notebooks\\jot-vectors\\query_two_\"+str(q_list2[i]+1)+\".json\",'r') as file:\r\n",
    "        doc=json.load(file)\r\n",
    "        for key in doc.keys():\r\n",
    "            # count+=1\r\n",
    "            if(key not in jot_features and key not in exclude ):\r\n",
    "                jot_features.append(key)\r\n",
    "\r\n",
    "print(len(jot_features))\r\n",
    "\r\n",
    "jot_vals=[]\r\n",
    "for i in range(len(q_list2)):\r\n",
    "    with open(r\"G:\\dbquery-optimizer\\tpcds\\notebooks\\jot-vectors\\query_two_\"+str(q_list2[i]+1)+\".json\",'r') as file:\r\n",
    "        doc=json.load(file)\r\n",
    "        row=[]\r\n",
    "        for key in jot_features:\r\n",
    "            if(key in doc.keys()):\r\n",
    "                row.append(doc[key])\r\n",
    "            else:row.append(0)\r\n",
    "        jot_vals.append(row)\r\n"
   ],
   "outputs": [
    {
     "output_type": "stream",
     "name": "stdout",
     "text": [
      "7\n"
     ]
    }
   ],
   "metadata": {}
  },
  {
   "cell_type": "code",
   "execution_count": null,
   "source": [
    "import numpy as np\r\n",
    "jot_vals=np.array(jot_vals)\r\n",
    "jot_vals"
   ],
   "outputs": [
    {
     "output_type": "execute_result",
     "data": {
      "text/plain": [
       "array([[ 8., 18., 36.,  8.,  8.],\n",
       "       [ 8., 18., 36.,  8.,  8.],\n",
       "       [ 8., 18., 36.,  8.,  8.],\n",
       "       [ 8., 18., 36.,  8.,  8.],\n",
       "       [ 8., 18., 36.,  8.,  8.],\n",
       "       [ 8., 18., 36.,  8.,  8.],\n",
       "       [ 8., 18., 36.,  8.,  8.],\n",
       "       [ 8., 18., 36.,  8.,  8.],\n",
       "       [ 8., 18., 36.,  8.,  8.],\n",
       "       [ 8., 18., 36.,  8.,  8.],\n",
       "       [ 8., 18., 36.,  8.,  8.],\n",
       "       [ 8., 18., 36.,  8.,  8.],\n",
       "       [ 8., 18., 36.,  8.,  8.],\n",
       "       [ 8., 18., 36.,  8.,  8.],\n",
       "       [ 8., 18., 36.,  8.,  8.],\n",
       "       [ 8., 18., 36.,  8.,  8.],\n",
       "       [ 8., 18., 36.,  8.,  8.],\n",
       "       [ 8., 18., 36.,  8.,  8.],\n",
       "       [ 8., 18., 36.,  8.,  8.],\n",
       "       [ 8., 18., 36.,  8.,  8.],\n",
       "       [ 8., 18., 36.,  8.,  8.],\n",
       "       [ 8., 18., 36.,  8.,  8.],\n",
       "       [ 8., 18., 36.,  8.,  8.]])"
      ]
     },
     "metadata": {},
     "execution_count": 21
    }
   ],
   "metadata": {}
  },
  {
   "cell_type": "code",
   "execution_count": null,
   "source": [
    "from sklearn.cluster import KMeans\r\n",
    "from sklearn.metrics import silhouette_score\r\n",
    "import matplotlib.pyplot as plt\r\n",
    "clusters= [i for i in range(2,5)]\r\n",
    "Sum_of_squared_distances = []\r\n",
    "for num_clusters in clusters :\r\n",
    " kmeans = KMeans(n_clusters=num_clusters)\r\n",
    " kmeans.fit(jot_vals)\r\n",
    " Sum_of_squared_distances.append(kmeans.inertia_)\r\n",
    "plt.plot(clusters,Sum_of_squared_distances,'bx-')\r\n",
    "plt.xlabel('Values of K') \r\n",
    "plt.ylabel('Sum of squared distances/Inertia') \r\n",
    "plt.title('Elbow Method For Optimal k')\r\n",
    "plt.show()\r\n",
    "silhouette_avg = []\r\n",
    "for num_clusters in clusters:\r\n",
    "    kmeans = KMeans(n_clusters=num_clusters)\r\n",
    "    kmeans.fit(jot_vals)\r\n",
    "    cluster_labels = kmeans.labels_\r\n",
    "    silhouette_avg.append(silhouette_score(jot_vals, cluster_labels))\r\n",
    "plt.plot(clusters,silhouette_avg,'bx-')\r\n",
    "plt.xlabel(\"Values of K\") \r\n",
    "plt.ylabel(\"Silhouette score\") \r\n",
    "plt.title(\"Silhouette analysis For Optimal k\")\r\n",
    "plt.show()"
   ],
   "outputs": [
    {
     "output_type": "stream",
     "name": "stderr",
     "text": [
      "C:\\Users\\HP\\Anaconda3\\lib\\site-packages\\ipykernel_launcher.py:8: ConvergenceWarning: Number of distinct clusters (1) found smaller than n_clusters (2). Possibly due to duplicate points in X.\n",
      "  \n",
      "C:\\Users\\HP\\Anaconda3\\lib\\site-packages\\ipykernel_launcher.py:8: ConvergenceWarning: Number of distinct clusters (1) found smaller than n_clusters (3). Possibly due to duplicate points in X.\n",
      "  \n",
      "C:\\Users\\HP\\Anaconda3\\lib\\site-packages\\ipykernel_launcher.py:8: ConvergenceWarning: Number of distinct clusters (1) found smaller than n_clusters (4). Possibly due to duplicate points in X.\n",
      "  \n"
     ]
    },
    {
     "output_type": "display_data",
     "data": {
      "text/plain": [
       "<Figure size 432x288 with 1 Axes>"
      ],
      "image/png": "[encoded data removed]"
     },
     "metadata": {
      "needs_background": "light"
     }
    },
    {
     "output_type": "stream",
     "name": "stderr",
     "text": [
      "C:\\Users\\HP\\Anaconda3\\lib\\site-packages\\ipykernel_launcher.py:18: ConvergenceWarning: Number of distinct clusters (1) found smaller than n_clusters (2). Possibly due to duplicate points in X.\n"
     ]
    },
    {
     "output_type": "error",
     "ename": "ValueError",
     "evalue": "Number of labels is 1. Valid values are 2 to n_samples - 1 (inclusive)",
     "traceback": [
      "\u001b[1;31m---------------------------------------------------------------------------\u001b[0m",
      "\u001b[1;31mValueError\u001b[0m                                Traceback (most recent call last)",
      "\u001b[1;32m<ipython-input-22-ecff872348a9>\u001b[0m in \u001b[0;36m<module>\u001b[1;34m\u001b[0m\n\u001b[0;32m     18\u001b[0m     \u001b[0mkmeans\u001b[0m\u001b[1;33m.\u001b[0m\u001b[0mfit\u001b[0m\u001b[1;33m(\u001b[0m\u001b[0mjot_vals\u001b[0m\u001b[1;33m)\u001b[0m\u001b[1;33m\u001b[0m\u001b[1;33m\u001b[0m\u001b[0m\n\u001b[0;32m     19\u001b[0m     \u001b[0mcluster_labels\u001b[0m \u001b[1;33m=\u001b[0m \u001b[0mkmeans\u001b[0m\u001b[1;33m.\u001b[0m\u001b[0mlabels_\u001b[0m\u001b[1;33m\u001b[0m\u001b[1;33m\u001b[0m\u001b[0m\n\u001b[1;32m---> 20\u001b[1;33m     \u001b[0msilhouette_avg\u001b[0m\u001b[1;33m.\u001b[0m\u001b[0mappend\u001b[0m\u001b[1;33m(\u001b[0m\u001b[0msilhouette_score\u001b[0m\u001b[1;33m(\u001b[0m\u001b[0mjot_vals\u001b[0m\u001b[1;33m,\u001b[0m \u001b[0mcluster_labels\u001b[0m\u001b[1;33m)\u001b[0m\u001b[1;33m)\u001b[0m\u001b[1;33m\u001b[0m\u001b[1;33m\u001b[0m\u001b[0m\n\u001b[0m\u001b[0;32m     21\u001b[0m \u001b[0mplt\u001b[0m\u001b[1;33m.\u001b[0m\u001b[0mplot\u001b[0m\u001b[1;33m(\u001b[0m\u001b[0mclusters\u001b[0m\u001b[1;33m,\u001b[0m\u001b[0msilhouette_avg\u001b[0m\u001b[1;33m,\u001b[0m\u001b[1;34m'bx-'\u001b[0m\u001b[1;33m)\u001b[0m\u001b[1;33m\u001b[0m\u001b[1;33m\u001b[0m\u001b[0m\n\u001b[0;32m     22\u001b[0m \u001b[0mplt\u001b[0m\u001b[1;33m.\u001b[0m\u001b[0mxlabel\u001b[0m\u001b[1;33m(\u001b[0m\u001b[1;34m\"Values of K\"\u001b[0m\u001b[1;33m)\u001b[0m\u001b[1;33m\u001b[0m\u001b[1;33m\u001b[0m\u001b[0m\n",
      "\u001b[1;32m~\\Anaconda3\\lib\\site-packages\\sklearn\\utils\\validation.py\u001b[0m in \u001b[0;36minner_f\u001b[1;34m(*args, **kwargs)\u001b[0m\n\u001b[0;32m     70\u001b[0m                           FutureWarning)\n\u001b[0;32m     71\u001b[0m         \u001b[0mkwargs\u001b[0m\u001b[1;33m.\u001b[0m\u001b[0mupdate\u001b[0m\u001b[1;33m(\u001b[0m\u001b[1;33m{\u001b[0m\u001b[0mk\u001b[0m\u001b[1;33m:\u001b[0m \u001b[0marg\u001b[0m \u001b[1;32mfor\u001b[0m \u001b[0mk\u001b[0m\u001b[1;33m,\u001b[0m \u001b[0marg\u001b[0m \u001b[1;32min\u001b[0m \u001b[0mzip\u001b[0m\u001b[1;33m(\u001b[0m\u001b[0msig\u001b[0m\u001b[1;33m.\u001b[0m\u001b[0mparameters\u001b[0m\u001b[1;33m,\u001b[0m \u001b[0margs\u001b[0m\u001b[1;33m)\u001b[0m\u001b[1;33m}\u001b[0m\u001b[1;33m)\u001b[0m\u001b[1;33m\u001b[0m\u001b[1;33m\u001b[0m\u001b[0m\n\u001b[1;32m---> 72\u001b[1;33m         \u001b[1;32mreturn\u001b[0m \u001b[0mf\u001b[0m\u001b[1;33m(\u001b[0m\u001b[1;33m**\u001b[0m\u001b[0mkwargs\u001b[0m\u001b[1;33m)\u001b[0m\u001b[1;33m\u001b[0m\u001b[1;33m\u001b[0m\u001b[0m\n\u001b[0m\u001b[0;32m     73\u001b[0m     \u001b[1;32mreturn\u001b[0m \u001b[0minner_f\u001b[0m\u001b[1;33m\u001b[0m\u001b[1;33m\u001b[0m\u001b[0m\n\u001b[0;32m     74\u001b[0m \u001b[1;33m\u001b[0m\u001b[0m\n",
      "\u001b[1;32m~\\Anaconda3\\lib\\site-packages\\sklearn\\metrics\\cluster\\_unsupervised.py\u001b[0m in \u001b[0;36msilhouette_score\u001b[1;34m(X, labels, metric, sample_size, random_state, **kwds)\u001b[0m\n\u001b[0;32m    115\u001b[0m         \u001b[1;32melse\u001b[0m\u001b[1;33m:\u001b[0m\u001b[1;33m\u001b[0m\u001b[1;33m\u001b[0m\u001b[0m\n\u001b[0;32m    116\u001b[0m             \u001b[0mX\u001b[0m\u001b[1;33m,\u001b[0m \u001b[0mlabels\u001b[0m \u001b[1;33m=\u001b[0m \u001b[0mX\u001b[0m\u001b[1;33m[\u001b[0m\u001b[0mindices\u001b[0m\u001b[1;33m]\u001b[0m\u001b[1;33m,\u001b[0m \u001b[0mlabels\u001b[0m\u001b[1;33m[\u001b[0m\u001b[0mindices\u001b[0m\u001b[1;33m]\u001b[0m\u001b[1;33m\u001b[0m\u001b[1;33m\u001b[0m\u001b[0m\n\u001b[1;32m--> 117\u001b[1;33m     \u001b[1;32mreturn\u001b[0m \u001b[0mnp\u001b[0m\u001b[1;33m.\u001b[0m\u001b[0mmean\u001b[0m\u001b[1;33m(\u001b[0m\u001b[0msilhouette_samples\u001b[0m\u001b[1;33m(\u001b[0m\u001b[0mX\u001b[0m\u001b[1;33m,\u001b[0m \u001b[0mlabels\u001b[0m\u001b[1;33m,\u001b[0m \u001b[0mmetric\u001b[0m\u001b[1;33m=\u001b[0m\u001b[0mmetric\u001b[0m\u001b[1;33m,\u001b[0m \u001b[1;33m**\u001b[0m\u001b[0mkwds\u001b[0m\u001b[1;33m)\u001b[0m\u001b[1;33m)\u001b[0m\u001b[1;33m\u001b[0m\u001b[1;33m\u001b[0m\u001b[0m\n\u001b[0m\u001b[0;32m    118\u001b[0m \u001b[1;33m\u001b[0m\u001b[0m\n\u001b[0;32m    119\u001b[0m \u001b[1;33m\u001b[0m\u001b[0m\n",
      "\u001b[1;32m~\\Anaconda3\\lib\\site-packages\\sklearn\\utils\\validation.py\u001b[0m in \u001b[0;36minner_f\u001b[1;34m(*args, **kwargs)\u001b[0m\n\u001b[0;32m     70\u001b[0m                           FutureWarning)\n\u001b[0;32m     71\u001b[0m         \u001b[0mkwargs\u001b[0m\u001b[1;33m.\u001b[0m\u001b[0mupdate\u001b[0m\u001b[1;33m(\u001b[0m\u001b[1;33m{\u001b[0m\u001b[0mk\u001b[0m\u001b[1;33m:\u001b[0m \u001b[0marg\u001b[0m \u001b[1;32mfor\u001b[0m \u001b[0mk\u001b[0m\u001b[1;33m,\u001b[0m \u001b[0marg\u001b[0m \u001b[1;32min\u001b[0m \u001b[0mzip\u001b[0m\u001b[1;33m(\u001b[0m\u001b[0msig\u001b[0m\u001b[1;33m.\u001b[0m\u001b[0mparameters\u001b[0m\u001b[1;33m,\u001b[0m \u001b[0margs\u001b[0m\u001b[1;33m)\u001b[0m\u001b[1;33m}\u001b[0m\u001b[1;33m)\u001b[0m\u001b[1;33m\u001b[0m\u001b[1;33m\u001b[0m\u001b[0m\n\u001b[1;32m---> 72\u001b[1;33m         \u001b[1;32mreturn\u001b[0m \u001b[0mf\u001b[0m\u001b[1;33m(\u001b[0m\u001b[1;33m**\u001b[0m\u001b[0mkwargs\u001b[0m\u001b[1;33m)\u001b[0m\u001b[1;33m\u001b[0m\u001b[1;33m\u001b[0m\u001b[0m\n\u001b[0m\u001b[0;32m     73\u001b[0m     \u001b[1;32mreturn\u001b[0m \u001b[0minner_f\u001b[0m\u001b[1;33m\u001b[0m\u001b[1;33m\u001b[0m\u001b[0m\n\u001b[0;32m     74\u001b[0m \u001b[1;33m\u001b[0m\u001b[0m\n",
      "\u001b[1;32m~\\Anaconda3\\lib\\site-packages\\sklearn\\metrics\\cluster\\_unsupervised.py\u001b[0m in \u001b[0;36msilhouette_samples\u001b[1;34m(X, labels, metric, **kwds)\u001b[0m\n\u001b[0;32m    227\u001b[0m     \u001b[0mn_samples\u001b[0m \u001b[1;33m=\u001b[0m \u001b[0mlen\u001b[0m\u001b[1;33m(\u001b[0m\u001b[0mlabels\u001b[0m\u001b[1;33m)\u001b[0m\u001b[1;33m\u001b[0m\u001b[1;33m\u001b[0m\u001b[0m\n\u001b[0;32m    228\u001b[0m     \u001b[0mlabel_freqs\u001b[0m \u001b[1;33m=\u001b[0m \u001b[0mnp\u001b[0m\u001b[1;33m.\u001b[0m\u001b[0mbincount\u001b[0m\u001b[1;33m(\u001b[0m\u001b[0mlabels\u001b[0m\u001b[1;33m)\u001b[0m\u001b[1;33m\u001b[0m\u001b[1;33m\u001b[0m\u001b[0m\n\u001b[1;32m--> 229\u001b[1;33m     \u001b[0mcheck_number_of_labels\u001b[0m\u001b[1;33m(\u001b[0m\u001b[0mlen\u001b[0m\u001b[1;33m(\u001b[0m\u001b[0mle\u001b[0m\u001b[1;33m.\u001b[0m\u001b[0mclasses_\u001b[0m\u001b[1;33m)\u001b[0m\u001b[1;33m,\u001b[0m \u001b[0mn_samples\u001b[0m\u001b[1;33m)\u001b[0m\u001b[1;33m\u001b[0m\u001b[1;33m\u001b[0m\u001b[0m\n\u001b[0m\u001b[0;32m    230\u001b[0m \u001b[1;33m\u001b[0m\u001b[0m\n\u001b[0;32m    231\u001b[0m     \u001b[0mkwds\u001b[0m\u001b[1;33m[\u001b[0m\u001b[1;34m'metric'\u001b[0m\u001b[1;33m]\u001b[0m \u001b[1;33m=\u001b[0m \u001b[0mmetric\u001b[0m\u001b[1;33m\u001b[0m\u001b[1;33m\u001b[0m\u001b[0m\n",
      "\u001b[1;32m~\\Anaconda3\\lib\\site-packages\\sklearn\\metrics\\cluster\\_unsupervised.py\u001b[0m in \u001b[0;36mcheck_number_of_labels\u001b[1;34m(n_labels, n_samples)\u001b[0m\n\u001b[0;32m     33\u001b[0m     \u001b[1;32mif\u001b[0m \u001b[1;32mnot\u001b[0m \u001b[1;36m1\u001b[0m \u001b[1;33m<\u001b[0m \u001b[0mn_labels\u001b[0m \u001b[1;33m<\u001b[0m \u001b[0mn_samples\u001b[0m\u001b[1;33m:\u001b[0m\u001b[1;33m\u001b[0m\u001b[1;33m\u001b[0m\u001b[0m\n\u001b[0;32m     34\u001b[0m         raise ValueError(\"Number of labels is %d. Valid values are 2 \"\n\u001b[1;32m---> 35\u001b[1;33m                          \"to n_samples - 1 (inclusive)\" % n_labels)\n\u001b[0m\u001b[0;32m     36\u001b[0m \u001b[1;33m\u001b[0m\u001b[0m\n\u001b[0;32m     37\u001b[0m \u001b[1;33m\u001b[0m\u001b[0m\n",
      "\u001b[1;31mValueError\u001b[0m: Number of labels is 1. Valid values are 2 to n_samples - 1 (inclusive)"
     ]
    }
   ],
   "metadata": {}
  },
  {
   "cell_type": "code",
   "execution_count": null,
   "source": [
    "kmeans = KMeans(n_clusters=3,random_state=0).fit(jot_vals)\r\n",
    "kmeans.cluster_centers_\r\n",
    "clusters=[{0:[],1:[],2:[]}]\r\n",
    "for i in range(len(kmeans.labels_)):\r\n",
    "    clusters[0][kmeans.labels_[i]].append(q_list2[i]+1)\r\n",
    "\r\n",
    "clusters"
   ],
   "outputs": [
    {
     "output_type": "execute_result",
     "data": {
      "text/plain": [
       "[{0: [2, 13, 14, 18, 22, 24, 26, 28, 30, 40, 44, 49],\n",
       "  1: [5, 6, 9, 29, 33, 37, 41, 50],\n",
       "  2: [15, 23, 35, 38, 42, 47]}]"
      ]
     },
     "metadata": {},
     "execution_count": 47
    }
   ],
   "metadata": {}
  },
  {
   "cell_type": "code",
   "execution_count": null,
   "source": [
    "sums=[9999 for i in range(3)]\r\n",
    "plans=[-1 for i in range(3)]\r\n",
    "for i in range(len(q_list2)):\r\n",
    "    sum=0\r\n",
    "    for j in range(len(jot_vals[i])):\r\n",
    "        sum+=(kmeans.cluster_centers_[kmeans.labels_[i]][j]-jot_vals[i][j])**2\r\n",
    "    print(sum,kmeans.labels_[i],end=\" \")\r\n",
    "    if(sums[kmeans.labels_[i]]>=sum):\r\n",
    "        sums[kmeans.labels_[i]]=sum\r\n",
    "        plans[kmeans.labels_[i]]=q_list2[i]+1\r\n",
    "    print()\r\n",
    "plans"
   ],
   "outputs": [
    {
     "output_type": "stream",
     "name": "stdout",
     "text": [
      "0.0 0 \n",
      "0.0 1 \n",
      "0.0 1 \n",
      "0.0 1 \n",
      "0.0 0 \n",
      "0.0 0 \n",
      "0.0 2 \n",
      "0.0 0 \n",
      "0.0 0 \n",
      "0.0 2 \n",
      "0.0 0 \n",
      "0.0 0 \n",
      "0.0 0 \n",
      "0.0 1 \n",
      "0.0 0 \n",
      "0.0 1 \n",
      "0.0 2 \n",
      "0.0 1 \n",
      "0.0 2 \n",
      "0.0 0 \n",
      "0.0 1 \n",
      "0.0 2 \n",
      "0.0 0 \n",
      "0.0 2 \n",
      "0.0 0 \n",
      "0.0 1 \n"
     ]
    },
    {
     "output_type": "execute_result",
     "data": {
      "text/plain": [
       "[49, 50, 47]"
      ]
     },
     "metadata": {},
     "execution_count": 50
    }
   ],
   "metadata": {}
  },
  {
   "cell_type": "code",
   "execution_count": null,
   "source": [
    "kmeans.cluster_centers_"
   ],
   "outputs": [
    {
     "output_type": "execute_result",
     "data": {
      "text/plain": [
       "array([[4. , 4. , 1. , 2. , 1.5],\n",
       "       [4. , 6. , 4. , 4. , 4. ],\n",
       "       [4. , 5. , 2. , 3. , 3. ]])"
      ]
     },
     "metadata": {},
     "execution_count": 49
    }
   ],
   "metadata": {}
  }
 ],
 "metadata": {
  "orig_nbformat": 4,
  "language_info": {
   "name": "python",
   "version": "3.7.4",
   "mimetype": "text/x-python",
   "codemirror_mode": {
    "name": "ipython",
    "version": 3
   },
   "pygments_lexer": "ipython3",
   "nbconvert_exporter": "python",
   "file_extension": ".py"
  },
  "kernelspec": {
   "name": "python3",
   "display_name": "Python 3.7.4 64-bit ('base': conda)"
  },
  "interpreter": {
   "hash": "a5e9669fc23686289bab8faee75cf5c458b29840ff2a1c38e2ed113a10858e16"
  }
 },
 "nbformat": 4,
 "nbformat_minor": 2
}