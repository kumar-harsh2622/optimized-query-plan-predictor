{
 "cells": [
  {
   "cell_type": "code",
   "execution_count": 1,
   "source": [
    "import random"
   ],
   "outputs": [],
   "metadata": {}
  },
  {
   "cell_type": "code",
   "execution_count": 14,
   "source": [
    "query1='''\r\n",
    "SELECT i_item_id, \r\n",
    "               Avg(ss_quantity)    agg1, \r\n",
    "               Avg(ss_list_price)  agg2, \r\n",
    "               Avg(ss_coupon_amt)  agg3, \r\n",
    "               Avg(ss_sales_price) agg4 \r\n",
    "FROM   tpcds.dbo.store_sales, \r\n",
    "       tpcds.dbo.customer_demographics, \r\n",
    "       tpcds.dbo.date_dim, \r\n",
    "       tpcds.dbo.item, \r\n",
    "       tpcds.dbo.promotion \r\n",
    "WHERE  ss_sold_date_sk = d_date_sk \r\n",
    "       AND ss_item_sk = i_item_sk \r\n",
    "       AND ss_cdemo_sk = cd_demo_sk \r\n",
    "       AND ss_promo_sk = p_promo_sk \r\n",
    "       AND cd_gender = '{{GENDER}}'\r\n",
    "       AND cd_marital_status = '{{MARITAL_STAT}}'\r\n",
    "       AND cd_education_status = '{{EDU_STAT}}'\r\n",
    "       AND ( p_channel_email = 'N' \r\n",
    "              OR p_channel_event = 'N' ) \r\n",
    "       AND d_year = 1998 \r\n",
    "GROUP  BY i_item_id \r\n",
    "ORDER  BY i_item_id\r\n",
    "'''\r\n",
    "gender=['M','F']\r\n",
    "marital=['U','S','D','M','W']\r\n",
    "education=['Unknown','Primary','Secondary','4 yr Degree','Advanced Degree','College','2 yr Degree']\r\n",
    "\r\n",
    "for i in range(50):\r\n",
    "    g=random.choice(gender)\r\n",
    "    m=random.choice(marital)\r\n",
    "    e=random.choice(education)\r\n",
    "    query=query1.replace('{{GENDER}}',g).replace('{{MARITAL_STAT}}',m).replace('{{EDU_STAT}}',e)\r\n",
    "    f=open(r\"G:\\dbquery-optimizer\\tpcds\\query_variants\\query_1\\q_one_\"+str(i+1)+\".sql\",'w')\r\n",
    "    f.write(query)\r\n",
    "    f.close()\r\n",
    "\r\n"
   ],
   "outputs": [],
   "metadata": {}
  },
  {
   "cell_type": "code",
   "execution_count": 15,
   "source": [
    "query2='''\r\n",
    "SELECT dt.d_year, \r\n",
    "               item.i_brand_id          brand_id, \r\n",
    "               item.i_brand             brand, \r\n",
    "               Sum(ss_ext_discount_amt) sum_agg \r\n",
    "FROM   tpcds.dbo.date_dim dt, \r\n",
    "       tpcds.dbo.store_sales, \r\n",
    "       tpcds.dbo.item \r\n",
    "WHERE  dt.d_date_sk = store_sales.ss_sold_date_sk \r\n",
    "       AND store_sales.ss_item_sk = item.i_item_sk \r\n",
    "       AND item.i_manufact_id = {{MF_ID}}\r\n",
    "       AND dt.d_moy = {{MONTH}}\r\n",
    "GROUP  BY dt.d_year, \r\n",
    "          item.i_brand, \r\n",
    "          item.i_brand_id \r\n",
    "ORDER  BY dt.d_year, \r\n",
    "          sum_agg DESC, \r\n",
    "          brand_id\r\n",
    "'''\r\n",
    "\r\n",
    "for i in range(50):\r\n",
    "    id=random.randint(1,1000)\r\n",
    "    month=random.randint(1,12)\r\n",
    "    query=query2.replace('{{MF_ID}}',str(id)).replace('{{MONTH}}',str(month))\r\n",
    "    f=open(r\"G:\\dbquery-optimizer\\tpcds\\query_variants\\query_2\\q_two_\"+str(i+1)+\".sql\",'w')\r\n",
    "    f.write(query)\r\n",
    "    f.close()\r\n",
    "\r\n"
   ],
   "outputs": [],
   "metadata": {}
  },
  {
   "cell_type": "code",
   "execution_count": null,
   "source": [
    "query3='''\r\n",
    "SELECT i_item_id, \r\n",
    "               s_state, \r\n",
    "               Grouping(s_state)   g_state, \r\n",
    "               Avg(ss_quantity)    agg1, \r\n",
    "               Avg(ss_list_price)  agg2, \r\n",
    "               Avg(ss_coupon_amt)  agg3, \r\n",
    "               Avg(ss_sales_price) agg4 \r\n",
    "FROM   store_sales, \r\n",
    "       customer_demographics, \r\n",
    "       date_dim, \r\n",
    "       store, \r\n",
    "       item \r\n",
    "WHERE  ss_sold_date_sk = d_date_sk \r\n",
    "       AND ss_item_sk = i_item_sk \r\n",
    "       AND ss_store_sk = s_store_sk \r\n",
    "       AND ss_cdemo_sk = cd_demo_sk \r\n",
    "       AND cd_gender = 'M' \r\n",
    "       AND cd_marital_status = 'D' \r\n",
    "       AND cd_education_status = 'College' \r\n",
    "       AND d_year = 2000 \r\n",
    "       AND s_state IN ( 'TN', 'TN', 'TN', 'TN', \r\n",
    "                        'TN', 'TN' ) \r\n",
    "GROUP  BY rollup ( i_item_id, s_state ) \r\n",
    "ORDER  BY i_item_id, \r\n",
    "          s_state\r\n",
    "'''"
   ],
   "outputs": [],
   "metadata": {}
  }
 ],
 "metadata": {
  "orig_nbformat": 4,
  "language_info": {
   "name": "python",
   "version": "3.7.4",
   "mimetype": "text/x-python",
   "codemirror_mode": {
    "name": "ipython",
    "version": 3
   },
   "pygments_lexer": "ipython3",
   "nbconvert_exporter": "python",
   "file_extension": ".py"
  },
  "kernelspec": {
   "name": "python3",
   "display_name": "Python 3.7.4 64-bit ('base': conda)"
  },
  "interpreter": {
   "hash": "a5e9669fc23686289bab8faee75cf5c458b29840ff2a1c38e2ed113a10858e16"
  }
 },
 "nbformat": 4,
 "nbformat_minor": 2
}