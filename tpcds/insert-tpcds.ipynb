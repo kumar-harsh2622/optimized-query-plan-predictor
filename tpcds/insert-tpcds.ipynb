{
 "cells": [
  {
   "cell_type": "code",
   "execution_count": 4,
   "source": [
    "import os\r\n",
    "from os.path import isfile, join, exists\r\n",
    "\r\n",
    "tpcds_data_location =r\"G:\\dbquery-optimizer\\data\\tpcds-data\"\r\n",
    "os.chdir(tpcds_data_location)\r\n",
    "only_files = [f for f in os.listdir('.') if isfile(join('.', f))]\r\n",
    "if not exists('edited'):\r\n",
    "    os.makedirs('edited')\r\n",
    "for file in only_files:\r\n",
    "    with open(file, \"r\", encoding='latin-1') as ori:\r\n",
    "        with open(f\"edited/{file}\", \"w\", encoding='utf-8') as dest:\r\n",
    "            for line in ori:\r\n",
    "                l=len(line)-1\r\n",
    "                while(line[l]!='|'):l-=1\r\n",
    "                line=line[:l]+line[l+1:]\r\n",
    "                # print(line)\r\n",
    "                dest.write(line)\r\n",
    "    "
   ],
   "outputs": [],
   "metadata": {}
  },
  {
   "cell_type": "code",
   "execution_count": null,
   "source": [],
   "outputs": [],
   "metadata": {}
  }
 ],
 "metadata": {
  "orig_nbformat": 4,
  "language_info": {
   "name": "python",
   "version": "3.7.4",
   "mimetype": "text/x-python",
   "codemirror_mode": {
    "name": "ipython",
    "version": 3
   },
   "pygments_lexer": "ipython3",
   "nbconvert_exporter": "python",
   "file_extension": ".py"
  },
  "kernelspec": {
   "name": "python3",
   "display_name": "Python 3.7.4 64-bit ('base': conda)"
  },
  "interpreter": {
   "hash": "a5e9669fc23686289bab8faee75cf5c458b29840ff2a1c38e2ed113a10858e16"
  }
 },
 "nbformat": 4,
 "nbformat_minor": 2
}