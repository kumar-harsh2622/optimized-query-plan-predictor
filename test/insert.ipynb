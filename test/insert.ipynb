{
 "cells": [
  {
   "cell_type": "code",
   "execution_count": 2,
   "source": [
    "! pip install names"
   ],
   "outputs": [
    {
     "output_type": "stream",
     "name": "stdout",
     "text": [
      "Collecting names\n",
      "  Downloading https://files.pythonhosted.org/packages/44/4e/f9cb7ef2df0250f4ba3334fbdabaa94f9c88097089763d8e85ada8092f84/names-0.3.0.tar.gz (789kB)\n",
      "Building wheels for collected packages: names\n",
      "  Building wheel for names (setup.py): started\n",
      "  Building wheel for names (setup.py): finished with status 'done'\n",
      "  Created wheel for names: filename=names-0.3.0-cp37-none-any.whl size=803694 sha256=2dbb9fb6997aeb36d6e5fb2e216ab8acd9c262eb3c78943f82a65fb3784707e9\n",
      "  Stored in directory: C:\\Users\\HP\\AppData\\Local\\pip\\Cache\\wheels\\f9\\a5\\e1\\be3e0aaa6fa285575078fa2aafd9959b45bdbc8de8a6803aeb\n",
      "Successfully built names\n",
      "Installing collected packages: names\n",
      "Successfully installed names-0.3.0\n"
     ]
    }
   ],
   "metadata": {}
  },
  {
   "cell_type": "code",
   "execution_count": 8,
   "source": [
    "import names\r\n",
    "import uuid\r\n",
    "import csv\r\n",
    "list=[]\r\n",
    "\r\n",
    "for i in range(1000):\r\n",
    "    memberId=i+1\r\n",
    "    username=names.get_full_name()\r\n",
    "    email=username.split(' ')[0].lower()+\"_\"+username.split(' ')[1].lower()+\"@gmail.com\"\r\n",
    "    password=uuid.uuid4()\r\n",
    "    row=[memberId,username,password,email]\r\n",
    "    list.append(row)\r\n",
    "\r\n",
    "with open(r'G:\\dbquery-optimizer\\test\\blog_members.csv','w',newline='') as file:\r\n",
    "    writer=csv.writer(file)\r\n",
    "    writer.writerows(list)"
   ],
   "outputs": [],
   "metadata": {}
  },
  {
   "cell_type": "code",
   "execution_count": 10,
   "source": [
    "!pip install lorem"
   ],
   "outputs": [
    {
     "output_type": "stream",
     "name": "stdout",
     "text": [
      "Collecting lorem\n",
      "  Downloading https://files.pythonhosted.org/packages/90/7e/963834e2a400cefdf72af1e10a106c9e849cb4c149cc7b394cb1492effec/lorem-0.1.1-py3-none-any.whl\n",
      "Installing collected packages: lorem\n",
      "Successfully installed lorem-0.1.1\n"
     ]
    }
   ],
   "metadata": {}
  },
  {
   "cell_type": "code",
   "execution_count": 28,
   "source": [
    "from random import randrange\r\n",
    "from datetime import timedelta\r\n",
    "\r\n",
    "def random_date(start, end):\r\n",
    "    delta = end - start\r\n",
    "    int_delta = (delta.days * 24 * 60 * 60) + delta.seconds\r\n",
    "    random_second = randrange(int_delta)\r\n",
    "    return start + timedelta(seconds=random_second)\r\n",
    "\r\n",
    "from datetime import datetime\r\n",
    "d1 = datetime.strptime('1/1/1950 1:30 PM', '%m/%d/%Y %I:%M %p')\r\n",
    "d2 = datetime.strptime('1/1/2025 4:50 AM', '%m/%d/%Y %I:%M %p')\r\n"
   ],
   "outputs": [],
   "metadata": {}
  },
  {
   "cell_type": "code",
   "execution_count": 31,
   "source": [
    "import lorem\r\n",
    "blogs=[]\r\n",
    "for i in range(1000):\r\n",
    "    blog=[]\r\n",
    "    id=i+1\r\n",
    "    s = lorem.sentence()  # 'Eius dolorem dolorem labore neque.'\r\n",
    "    p = lorem.paragraph()\r\n",
    "    t = lorem.text()\r\n",
    "    t=t.replace('\\n','')\r\n",
    "    dt=random_date(d1,d2)\r\n",
    "    blog=[id,s,p,t,dt]\r\n",
    "    blogs.append(blog)\r\n",
    "\r\n",
    "\r\n",
    "with open(r'G:\\dbquery-optimizer\\test\\blog_posts.csv','w',newline='') as file:\r\n",
    "    writer=csv.writer(file)\r\n",
    "    writer.writerows(blogs)\r\n"
   ],
   "outputs": [],
   "metadata": {}
  },
  {
   "cell_type": "code",
   "execution_count": 2,
   "source": [
    "import random\r\n",
    "q1='''SELECT postID, postTitle, postDesc, postCont FROM test.dbo.blog_posts WHERE postID = P_ID'''\r\n",
    "\r\n",
    "for i in range(50):\r\n",
    "    id=random.randint(1,1000)\r\n",
    "    q=q1.replace('P_ID',str(id))\r\n",
    "    f=open(r'G:\\dbquery-optimizer\\test\\query-variants\\query_1\\query_one_'+str(i+1)+'.sql','w')\r\n",
    "    f.write(q)\r\n",
    "    f.close()\r\n",
    "\r\n",
    "q1='''SELECT memberID, username, email FROM test.dbo.blog_members WHERE memberID = M_ID'''\r\n",
    "\r\n",
    "for i in range(50):\r\n",
    "    id=random.randint(1,1000)\r\n",
    "    q=q1.replace('M_ID',str(id))\r\n",
    "    f=open(r'G:\\dbquery-optimizer\\test\\query-variants\\query_2\\query_two_'+str(i+1)+'.sql','w')\r\n",
    "    f.write(q)\r\n",
    "    f.close()\r\n"
   ],
   "outputs": [],
   "metadata": {}
  }
 ],
 "metadata": {
  "orig_nbformat": 4,
  "language_info": {
   "name": "python",
   "version": "3.7.4",
   "mimetype": "text/x-python",
   "codemirror_mode": {
    "name": "ipython",
    "version": 3
   },
   "pygments_lexer": "ipython3",
   "nbconvert_exporter": "python",
   "file_extension": ".py"
  },
  "kernelspec": {
   "name": "python3",
   "display_name": "Python 3.7.4 64-bit ('base': conda)"
  },
  "interpreter": {
   "hash": "a5e9669fc23686289bab8faee75cf5c458b29840ff2a1c38e2ed113a10858e16"
  }
 },
 "nbformat": 4,
 "nbformat_minor": 2
}