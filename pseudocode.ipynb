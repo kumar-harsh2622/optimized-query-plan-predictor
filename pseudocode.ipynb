{
 "cells": [
  {
   "cell_type": "code",
   "execution_count": 3,
   "source": [
    "from lxml import etree\r\n",
    "\r\n",
    "def depth(node):\r\n",
    "    d = 0\r\n",
    "    while node is not None:\r\n",
    "        d += 1\r\n",
    "        node = node.getparent()\r\n",
    "    return d"
   ],
   "outputs": [],
   "metadata": {}
  },
  {
   "cell_type": "code",
   "execution_count": 8,
   "source": [
    "def util(fname):\r\n",
    "    xml=etree.parse(fname)\r\n",
    "    root=xml.getroot()\r\n",
    "    jot=[]\r\n",
    "    jot.append({'index':0,'type':'root','depth':0,'parent':-1})\r\n",
    "    curr=0\r\n",
    "    joins=['Nested Loops','Merge Join','Hash Match']\r\n",
    "    for child in root.iter(\"{http://schemas.microsoft.com/sqlserver/2004/07/showplan}RelOp\"):  \r\n",
    "        op=child.attrib['PhysicalOp']\r\n",
    "        # if(op in joins):\r\n",
    "        print(depth(child),child.attrib['PhysicalOp'])\r\n",
    "\r\n",
    "util(\"G:\\dbquery-optimizer\\Execution Plans\\query_1\\query_one_3.xml\")"
   ],
   "outputs": [
    {
     "output_type": "stream",
     "name": "stdout",
     "text": [
      "7 Stream Aggregate\n",
      "9 Merge Join\n",
      "11 Nested Loops\n",
      "13 Sort\n",
      "15 Hash Match\n",
      "17 Hash Match\n",
      "19 Hash Match\n",
      "21 Filter\n",
      "23 Clustered Index Scan\n",
      "21 Hash Match\n",
      "23 Clustered Index Scan\n",
      "23 Clustered Index Scan\n",
      "19 Filter\n",
      "21 Clustered Index Scan\n",
      "17 Clustered Index Scan\n",
      "13 Filter\n",
      "15 Clustered Index Scan\n",
      "11 Sort\n",
      "13 Clustered Index Scan\n"
     ]
    }
   ],
   "metadata": {}
  },
  {
   "cell_type": "code",
   "execution_count": 7,
   "source": [
    "def util(fname):\r\n",
    "    xml=etree.parse(fname)\r\n",
    "    root=xml.getroot()\r\n",
    "    jot=[]\r\n",
    "    jot.append({'index':0,'type':'root','depth':0,'parent':-1})\r\n",
    "    curr=0\r\n",
    "    joins=['Nested Loops','Merge Join','Hash Match']\r\n",
    "    for child in root.iter(\"{http://schemas.microsoft.com/sqlserver/2004/07/showplan}RelOp\"):  \r\n",
    "        op=child.attrib['PhysicalOp']\r\n",
    "        if(op in joins):\r\n",
    "            # print(depth(child),child.attrib['PhysicalOp'])\r\n",
    "            parent=-1\r\n",
    "            if(depth(child)>jot[curr]['depth']):\r\n",
    "                parent=curr\r\n",
    "            else:\r\n",
    "                i=curr\r\n",
    "                while(jot[i]['depth']>=depth(child)):\r\n",
    "                    i-=1\r\n",
    "                parent=i\r\n",
    "            curr+=1\r\n",
    "            data={\r\n",
    "                'index':curr,\r\n",
    "                'type':child.attrib['PhysicalOp'],\r\n",
    "                'depth':depth(child),\r\n",
    "                'parent':parent\r\n",
    "            }\r\n",
    "            jot.append(data)\r\n",
    "    return jot\r\n",
    "util(\"G:\\dbquery-optimizer\\Execution Plans\\query_1\\query_one_3.xml\")"
   ],
   "outputs": [
    {
     "output_type": "execute_result",
     "data": {
      "text/plain": [
       "[{'index': 0, 'type': 'root', 'depth': 0, 'parent': -1},\n",
       " {'index': 1, 'type': 'Merge Join', 'depth': 9, 'parent': 0},\n",
       " {'index': 2, 'type': 'Nested Loops', 'depth': 11, 'parent': 1},\n",
       " {'index': 3, 'type': 'Hash Match', 'depth': 15, 'parent': 2},\n",
       " {'index': 4, 'type': 'Hash Match', 'depth': 17, 'parent': 3},\n",
       " {'index': 5, 'type': 'Hash Match', 'depth': 19, 'parent': 4},\n",
       " {'index': 6, 'type': 'Hash Match', 'depth': 21, 'parent': 5}]"
      ]
     },
     "metadata": {},
     "execution_count": 7
    }
   ],
   "metadata": {}
  },
  {
   "cell_type": "code",
   "execution_count": null,
   "source": [],
   "outputs": [],
   "metadata": {}
  },
  {
   "cell_type": "code",
   "execution_count": 3,
   "source": [
    "query='''\r\n",
    "SELECT MIN(chn.name) AS uncredited_voiced_character,\r\n",
    "       MIN(t.title) AS movie\r\n",
    "FROM imdb.dbo.char_name AS chn,\r\n",
    "     imdb.dbo.cast_info AS ci,\r\n",
    "     imdb.dbo.company_name AS cn,\r\n",
    "     imdb.dbo.company_type AS ct,\r\n",
    "     imdb.dbo.movie_companies AS mc,\r\n",
    "     imdb.dbo.role_type AS rt,\r\n",
    "     imdb.dbo.title AS t\r\n",
    "WHERE ci.note LIKE '%(voice)%'\r\n",
    "  AND ci.note LIKE '%(uncredited)%'\r\n",
    "  AND cn.country_code = '[ph]'\r\n",
    "  AND rt.role = 'cinematographer'\r\n",
    "  AND t.production_year > 1923\r\n",
    "  AND t.id = mc.movie_id\r\n",
    "  AND t.id = ci.movie_id\r\n",
    "  AND ci.movie_id = mc.movie_id\r\n",
    "  AND chn.id = ci.person_role_id\r\n",
    "  AND rt.id = ci.role_id\r\n",
    "  AND cn.id = mc.company_id\r\n",
    "  AND ct.id = mc.company_type_id\r\n",
    "  '''"
   ],
   "outputs": [],
   "metadata": {}
  },
  {
   "cell_type": "code",
   "execution_count": 6,
   "source": [
    "import subprocess\r\n",
    "host='ACCESS-DENIED\\SQLEXPRESS'\r\n",
    "p=subprocess.Popen(['sqlcmd','-S',host,'-Q',query],stdout=subprocess.PIPE,stderr=subprocess.PIPE)\r\n",
    "stdout=p.communicate()[0]\r\n",
    "print(stdout)"
   ],
   "outputs": [
    {
     "output_type": "stream",
     "name": "stdout",
     "text": [
      "b'uncredited_voiced_character                                                                                                                                                                                                                                                                                                                                                                                                                                                                                          movie                                                                                                                                                                                                                                                                                                                                                         \\r\\n-------------------------------------------------------------------------------------------------------------------------------------------------------------------------------------------------------------------------------------------------------------------------------------------------------------------------------------------------------------------------------------------------------------------------------------------------------------------------------------------------------------------- --------------------------------------------------------------------------------------------------------------------------------------------------------------------------------------------------------------------------------------------------------------------------------------------------------------------------------------------------------------\\r\\nNULL                                                                                                                                                                                                                                                                                                                                                                                                                                                                                                                 NULL                                                                                                                                                                                                                                                                                                                                                          \\r\\n\\r\\n(1 rows affected)\\r\\n'\n"
     ]
    }
   ],
   "metadata": {}
  }
 ],
 "metadata": {
  "orig_nbformat": 4,
  "language_info": {
   "name": "python",
   "version": "3.7.4",
   "mimetype": "text/x-python",
   "codemirror_mode": {
    "name": "ipython",
    "version": 3
   },
   "pygments_lexer": "ipython3",
   "nbconvert_exporter": "python",
   "file_extension": ".py"
  },
  "kernelspec": {
   "name": "python3",
   "display_name": "Python 3.7.4 64-bit ('base': conda)"
  },
  "interpreter": {
   "hash": "a5e9669fc23686289bab8faee75cf5c458b29840ff2a1c38e2ed113a10858e16"
  }
 },
 "nbformat": 4,
 "nbformat_minor": 2
}